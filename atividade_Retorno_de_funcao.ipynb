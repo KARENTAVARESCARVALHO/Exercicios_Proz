{
  "nbformat": 4,
  "nbformat_minor": 0,
  "metadata": {
    "colab": {
      "provenance": [],
      "authorship_tag": "ABX9TyPcXA/svJNxd2PDNdApZ+tl",
      "include_colab_link": true
    },
    "kernelspec": {
      "name": "python3",
      "display_name": "Python 3"
    },
    "language_info": {
      "name": "python"
    }
  },
  "cells": [
    {
      "cell_type": "markdown",
      "metadata": {
        "id": "view-in-github",
        "colab_type": "text"
      },
      "source": [
        "<a href=\"https://colab.research.google.com/github/KARENTAVARESCARVALHO/Exercicios_Proz/blob/main/atividade_Retorno_de_funcao.ipynb\" target=\"_parent\"><img src=\"https://colab.research.google.com/assets/colab-badge.svg\" alt=\"Open In Colab\"/></a>"
      ]
    },
    {
      "cell_type": "code",
      "source": [
        "#Faça uma função calculadora de dois números com três parâmetros: os dois primeiros \n",
        "#serão os números da operação e o terceiro será a entrada que definirá a operação a ser executada. \n",
        "#Considera a seguinte definição:\n",
        "#1. Soma\n",
        "#2. Subtração\n",
        "#3. Multiplicação\n",
        "#4. Divisão\n",
        "\n",
        "#Caso seja inserido um número de operação que não exista, o resultado deverá ser 0.\n",
        "\n",
        "\n",
        "def calculadora(num1, num2, oper):\n",
        "  if oper == \"+\":\n",
        "    return num1 + num2\n",
        "  elif oper == \"-\":\n",
        "    return num1 - num2\n",
        "  elif oper == \"*\":\n",
        "    return num1 * num2\n",
        "  elif oper == \"/\":\n",
        "    return num1 / num2\n",
        "  else:\n",
        "    return 0\n",
        "\n",
        "\n",
        "\n",
        "\n"
      ],
      "metadata": {
        "id": "jaV8ZBarsVTq"
      },
      "execution_count": 1,
      "outputs": []
    }
  ]
}