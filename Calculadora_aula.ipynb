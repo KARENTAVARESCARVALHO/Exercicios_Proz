{
  "nbformat": 4,
  "nbformat_minor": 0,
  "metadata": {
    "colab": {
      "provenance": [],
      "authorship_tag": "ABX9TyNYPU+ys3YsJq/I8G0Sts/Z",
      "include_colab_link": true
    },
    "kernelspec": {
      "name": "python3",
      "display_name": "Python 3"
    },
    "language_info": {
      "name": "python"
    }
  },
  "cells": [
    {
      "cell_type": "markdown",
      "metadata": {
        "id": "view-in-github",
        "colab_type": "text"
      },
      "source": [
        "<a href=\"https://colab.research.google.com/github/KARENTAVARESCARVALHO/Exercicios_Proz/blob/main/Calculadora_aula.ipynb\" target=\"_parent\"><img src=\"https://colab.research.google.com/assets/colab-badge.svg\" alt=\"Open In Colab\"/></a>"
      ]
    },
    {
      "cell_type": "code",
      "execution_count": 4,
      "metadata": {
        "colab": {
          "base_uri": "https://localhost:8080/"
        },
        "id": "8qzAFDmv3ii-",
        "outputId": "37c3df25-dcd3-4203-c508-7a942a17bea9"
      },
      "outputs": [
        {
          "output_type": "stream",
          "name": "stdout",
          "text": [
            "escolha um operador: 1: Soma 2: Subtração 3: Multiplicação 4: Divisão 0: Sair 0\n",
            "Finalizado pelo usuário.\n"
          ]
        }
      ],
      "source": [
        "oper = 1\n",
        "while oper != (1, 2, 3, 4):\n",
        "    oper = int(input('escolha um operador: 1: Soma 2: Subtração 3: Multiplicação 4: Divisão 0: Sair '))\n",
        "    if oper == 0:\n",
        "      print('Finalizado pelo usuário.')\n",
        "      break\n",
        "    n1 = float(input('digite um numero: '))\n",
        "    n2 = float(input('digite outro numero: '))\n",
        "    if oper == 1:\n",
        "        res = n1 + n2\n",
        "    elif oper == 2:\n",
        "        res = n1 - n2\n",
        "    elif oper == 3:\n",
        "        res = n1 * n2\n",
        "    elif oper == 4:\n",
        "        res = n1 / n2\n",
        "    else:\n",
        "        print ('opção invalida')\n",
        "        continue\n",
        "    print('O resultado da operação selecionada é: {}'.format(res))\n",
        "\n",
        "\n",
        "\n",
        "     "
      ]
    },
    {
      "cell_type": "markdown",
      "source": [
        "Faça uma função calculadora que os números e as operações serão feitas pelo usuário. O código deve ficar rodando infinitamente até que o usuário escolha a opção de sair. No início, o programa mostrará a seguinte lista de operações:\n",
        "\n",
        "1: Soma\n",
        "2: Subtração\n",
        "3: Multiplicação\n",
        "4: Divisão\n",
        "0: Sair\n",
        "\n",
        "Digite o número para a operação correspondente e caso o usuário introduza qualquer outro, o sistema deve mostrar a mensagem “Essa opção não existe” e voltar ao menu de opções.\n",
        "\n",
        "Após a seleção, o sistema deve pedir para o usuário inserir o primeiro e segundo valor, um de cada. Depois precisa executar a operação e mostrar o resultado na tela. Quando o usuário escolher a opção “Sair”, o sistema irá parar.\n",
        "\n",
        "É necessário que o sistema mostre as opções sempre que finalizar uma operação e mostrar o resultado"
      ],
      "metadata": {
        "id": "LWycD2Pj380r"
      }
    }
  ]
}