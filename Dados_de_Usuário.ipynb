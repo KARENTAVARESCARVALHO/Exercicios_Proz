{
  "nbformat": 4,
  "nbformat_minor": 0,
  "metadata": {
    "colab": {
      "provenance": [],
      "authorship_tag": "ABX9TyObZeESR65OEJPpuSsjNbQS",
      "include_colab_link": true
    },
    "kernelspec": {
      "name": "python3",
      "display_name": "Python 3"
    },
    "language_info": {
      "name": "python"
    }
  },
  "cells": [
    {
      "cell_type": "markdown",
      "metadata": {
        "id": "view-in-github",
        "colab_type": "text"
      },
      "source": [
        "<a href=\"https://colab.research.google.com/github/KARENTAVARESCARVALHO/Exercicios_Proz/blob/main/Dados_de_Usu%C3%A1rio.ipynb\" target=\"_parent\"><img src=\"https://colab.research.google.com/assets/colab-badge.svg\" alt=\"Open In Colab\"/></a>"
      ]
    },
    {
      "cell_type": "code",
      "execution_count": null,
      "metadata": {
        "id": "Xm2Em78U6rh4"
      },
      "outputs": [],
      "source": [
        "anonasc = 0\n",
        "\n",
        "while(anonasc < 1922 or anonasc > 2021 ):\n",
        "  try:\n",
        "    \n",
        "    anonasc = int(input(\"Escreva seu ano de nascimento(1922 - 2021): \"))\n",
        "    if (anonasc >= 1922 and anonasc <= 2021 ):\n",
        "      nome = (input(\"Escreva nome completo: \"))\n",
        "    else:\n",
        "      print(\"Precisa digitar um ano valido\")\n",
        "      continue\n",
        "\n",
        "    idade = 2022 - anonasc\n",
        "    print(\"O usuário {} tem {} anos. \".format(nome,idade))\n",
        "    \n",
        "  except:\n",
        "    print(\"Precisa digitar um ano valido\")\n",
        "    continue\n",
        "    \n"
      ]
    }
  ]
}